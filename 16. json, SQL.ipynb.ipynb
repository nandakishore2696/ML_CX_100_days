{
 "cells": [
  {
   "cell_type": "code",
   "execution_count": 4,
   "metadata": {},
   "outputs": [],
   "source": [
    "import pandas as pd\n",
    "import requests"
   ]
  },
  {
   "cell_type": "code",
   "execution_count": 7,
   "metadata": {},
   "outputs": [
    {
     "data": {
      "text/html": [
       "<div>\n",
       "<style scoped>\n",
       "    .dataframe tbody tr th:only-of-type {\n",
       "        vertical-align: middle;\n",
       "    }\n",
       "\n",
       "    .dataframe tbody tr th {\n",
       "        vertical-align: top;\n",
       "    }\n",
       "\n",
       "    .dataframe thead th {\n",
       "        text-align: right;\n",
       "    }\n",
       "</style>\n",
       "<table border=\"1\" class=\"dataframe\">\n",
       "  <thead>\n",
       "    <tr style=\"text-align: right;\">\n",
       "      <th></th>\n",
       "      <th>id</th>\n",
       "      <th>cuisine</th>\n",
       "      <th>ingredients</th>\n",
       "    </tr>\n",
       "  </thead>\n",
       "  <tbody>\n",
       "    <tr>\n",
       "      <th>0</th>\n",
       "      <td>10259</td>\n",
       "      <td>greek</td>\n",
       "      <td>[romaine lettuce, black olives, grape tomatoes...</td>\n",
       "    </tr>\n",
       "    <tr>\n",
       "      <th>1</th>\n",
       "      <td>25693</td>\n",
       "      <td>southern_us</td>\n",
       "      <td>[plain flour, ground pepper, salt, tomatoes, g...</td>\n",
       "    </tr>\n",
       "    <tr>\n",
       "      <th>2</th>\n",
       "      <td>20130</td>\n",
       "      <td>filipino</td>\n",
       "      <td>[eggs, pepper, salt, mayonaise, cooking oil, g...</td>\n",
       "    </tr>\n",
       "    <tr>\n",
       "      <th>3</th>\n",
       "      <td>22213</td>\n",
       "      <td>indian</td>\n",
       "      <td>[water, vegetable oil, wheat, salt]</td>\n",
       "    </tr>\n",
       "    <tr>\n",
       "      <th>4</th>\n",
       "      <td>13162</td>\n",
       "      <td>indian</td>\n",
       "      <td>[black pepper, shallots, cornflour, cayenne pe...</td>\n",
       "    </tr>\n",
       "    <tr>\n",
       "      <th>...</th>\n",
       "      <td>...</td>\n",
       "      <td>...</td>\n",
       "      <td>...</td>\n",
       "    </tr>\n",
       "    <tr>\n",
       "      <th>39769</th>\n",
       "      <td>29109</td>\n",
       "      <td>irish</td>\n",
       "      <td>[light brown sugar, granulated sugar, butter, ...</td>\n",
       "    </tr>\n",
       "    <tr>\n",
       "      <th>39770</th>\n",
       "      <td>11462</td>\n",
       "      <td>italian</td>\n",
       "      <td>[KRAFT Zesty Italian Dressing, purple onion, b...</td>\n",
       "    </tr>\n",
       "    <tr>\n",
       "      <th>39771</th>\n",
       "      <td>2238</td>\n",
       "      <td>irish</td>\n",
       "      <td>[eggs, citrus fruit, raisins, sourdough starte...</td>\n",
       "    </tr>\n",
       "    <tr>\n",
       "      <th>39772</th>\n",
       "      <td>41882</td>\n",
       "      <td>chinese</td>\n",
       "      <td>[boneless chicken skinless thigh, minced garli...</td>\n",
       "    </tr>\n",
       "    <tr>\n",
       "      <th>39773</th>\n",
       "      <td>2362</td>\n",
       "      <td>mexican</td>\n",
       "      <td>[green chile, jalapeno chilies, onions, ground...</td>\n",
       "    </tr>\n",
       "  </tbody>\n",
       "</table>\n",
       "<p>39774 rows × 3 columns</p>\n",
       "</div>"
      ],
      "text/plain": [
       "          id      cuisine                                        ingredients\n",
       "0      10259        greek  [romaine lettuce, black olives, grape tomatoes...\n",
       "1      25693  southern_us  [plain flour, ground pepper, salt, tomatoes, g...\n",
       "2      20130     filipino  [eggs, pepper, salt, mayonaise, cooking oil, g...\n",
       "3      22213       indian                [water, vegetable oil, wheat, salt]\n",
       "4      13162       indian  [black pepper, shallots, cornflour, cayenne pe...\n",
       "...      ...          ...                                                ...\n",
       "39769  29109        irish  [light brown sugar, granulated sugar, butter, ...\n",
       "39770  11462      italian  [KRAFT Zesty Italian Dressing, purple onion, b...\n",
       "39771   2238        irish  [eggs, citrus fruit, raisins, sourdough starte...\n",
       "39772  41882      chinese  [boneless chicken skinless thigh, minced garli...\n",
       "39773   2362      mexican  [green chile, jalapeno chilies, onions, ground...\n",
       "\n",
       "[39774 rows x 3 columns]"
      ]
     },
     "execution_count": 7,
     "metadata": {},
     "output_type": "execute_result"
    }
   ],
   "source": [
    "pd.read_json('train.json')"
   ]
  },
  {
   "cell_type": "markdown",
   "metadata": {},
   "source": [
    "## working with SQL"
   ]
  },
  {
   "cell_type": "code",
   "execution_count": 1,
   "metadata": {},
   "outputs": [],
   "source": [
    "import mysql.connector"
   ]
  },
  {
   "cell_type": "code",
   "execution_count": 12,
   "metadata": {},
   "outputs": [],
   "source": [
    "config = {'host': 'localhost',\n",
    "        'user': 'root',\n",
    "        'password': 'mysql123',\n",
    "        'database': 'youtube_project'\n",
    "                }\n",
    "conn = mysql.connector.connect(**config)\n",
    "cursor = conn.cursor()\n",
    "#cursor.execute(\"drop table if exists channel\")\n",
    "#conn.commit()"
   ]
  },
  {
   "cell_type": "code",
   "execution_count": null,
   "metadata": {},
   "outputs": [],
   "source": [
    "conn._execute_query"
   ]
  },
  {
   "cell_type": "code",
   "execution_count": 5,
   "metadata": {},
   "outputs": [
    {
     "name": "stderr",
     "output_type": "stream",
     "text": [
      "c:\\ProgramData\\Anaconda3\\lib\\site-packages\\pandas\\io\\sql.py:762: UserWarning: pandas only support SQLAlchemy connectable(engine/connection) ordatabase string URI or sqlite3 DBAPI2 connectionother DBAPI2 objects are not tested, please consider using SQLAlchemy\n",
      "  warnings.warn(\n"
     ]
    },
    {
     "data": {
      "text/html": [
       "<div>\n",
       "<style scoped>\n",
       "    .dataframe tbody tr th:only-of-type {\n",
       "        vertical-align: middle;\n",
       "    }\n",
       "\n",
       "    .dataframe tbody tr th {\n",
       "        vertical-align: top;\n",
       "    }\n",
       "\n",
       "    .dataframe thead th {\n",
       "        text-align: right;\n",
       "    }\n",
       "</style>\n",
       "<table border=\"1\" class=\"dataframe\">\n",
       "  <thead>\n",
       "    <tr style=\"text-align: right;\">\n",
       "      <th></th>\n",
       "      <th>Channel_Name</th>\n",
       "      <th>Channel_Id</th>\n",
       "      <th>Subscription_Count</th>\n",
       "      <th>Views</th>\n",
       "      <th>Total_Videos</th>\n",
       "      <th>Channel_Description</th>\n",
       "      <th>Playlist_Id</th>\n",
       "    </tr>\n",
       "  </thead>\n",
       "  <tbody>\n",
       "    <tr>\n",
       "      <th>0</th>\n",
       "      <td>Data With Mo</td>\n",
       "      <td>UCDybamfye5An6p-j1t2YMsg</td>\n",
       "      <td>70100</td>\n",
       "      <td>2078803</td>\n",
       "      <td>63</td>\n",
       "      <td>👋 Hey there, this is my attempt at creating th...</td>\n",
       "      <td>UUDybamfye5An6p-j1t2YMsg</td>\n",
       "    </tr>\n",
       "    <tr>\n",
       "      <th>1</th>\n",
       "      <td>Pavan Sathiraju</td>\n",
       "      <td>UCHYVOFd3E5WfP5infRbuVtw</td>\n",
       "      <td>65500</td>\n",
       "      <td>1641792</td>\n",
       "      <td>284</td>\n",
       "      <td>Hoping to publish meaningful and value-add con...</td>\n",
       "      <td>UUHYVOFd3E5WfP5infRbuVtw</td>\n",
       "    </tr>\n",
       "    <tr>\n",
       "      <th>2</th>\n",
       "      <td>Thu Vu data analytics</td>\n",
       "      <td>UCJQJAI7IjbLcpsjWdSzYz0Q</td>\n",
       "      <td>173000</td>\n",
       "      <td>5750452</td>\n",
       "      <td>78</td>\n",
       "      <td>Hi there! Thanks for checking out my channel. ...</td>\n",
       "      <td>UUJQJAI7IjbLcpsjWdSzYz0Q</td>\n",
       "    </tr>\n",
       "    <tr>\n",
       "      <th>3</th>\n",
       "      <td>QuantProgram</td>\n",
       "      <td>UCq_njg0BL8sT3781M6IAfOg</td>\n",
       "      <td>63300</td>\n",
       "      <td>2195981</td>\n",
       "      <td>37</td>\n",
       "      <td>Educational channel focusing on quantitative f...</td>\n",
       "      <td>UUq_njg0BL8sT3781M6IAfOg</td>\n",
       "    </tr>\n",
       "    <tr>\n",
       "      <th>4</th>\n",
       "      <td>Data Nash</td>\n",
       "      <td>UCRqCK8izkO5xeVVtMKSHeRQ</td>\n",
       "      <td>18100</td>\n",
       "      <td>871949</td>\n",
       "      <td>49</td>\n",
       "      <td>On a journey to become an elite Data Scientist...</td>\n",
       "      <td>UURqCK8izkO5xeVVtMKSHeRQ</td>\n",
       "    </tr>\n",
       "  </tbody>\n",
       "</table>\n",
       "</div>"
      ],
      "text/plain": [
       "            Channel_Name                Channel_Id  Subscription_Count  \\\n",
       "0           Data With Mo  UCDybamfye5An6p-j1t2YMsg               70100   \n",
       "1        Pavan Sathiraju  UCHYVOFd3E5WfP5infRbuVtw               65500   \n",
       "2  Thu Vu data analytics  UCJQJAI7IjbLcpsjWdSzYz0Q              173000   \n",
       "3           QuantProgram  UCq_njg0BL8sT3781M6IAfOg               63300   \n",
       "4              Data Nash  UCRqCK8izkO5xeVVtMKSHeRQ               18100   \n",
       "\n",
       "     Views  Total_Videos                                Channel_Description  \\\n",
       "0  2078803            63  👋 Hey there, this is my attempt at creating th...   \n",
       "1  1641792           284  Hoping to publish meaningful and value-add con...   \n",
       "2  5750452            78  Hi there! Thanks for checking out my channel. ...   \n",
       "3  2195981            37  Educational channel focusing on quantitative f...   \n",
       "4   871949            49  On a journey to become an elite Data Scientist...   \n",
       "\n",
       "                Playlist_Id  \n",
       "0  UUDybamfye5An6p-j1t2YMsg  \n",
       "1  UUHYVOFd3E5WfP5infRbuVtw  \n",
       "2  UUJQJAI7IjbLcpsjWdSzYz0Q  \n",
       "3  UUq_njg0BL8sT3781M6IAfOg  \n",
       "4  UURqCK8izkO5xeVVtMKSHeRQ  "
      ]
     },
     "execution_count": 5,
     "metadata": {},
     "output_type": "execute_result"
    }
   ],
   "source": [
    "pd.read_sql_query(\"select * from channel\", conn)"
   ]
  },
  {
   "cell_type": "code",
   "execution_count": 18,
   "metadata": {},
   "outputs": [
    {
     "name": "stderr",
     "output_type": "stream",
     "text": [
      "c:\\ProgramData\\Anaconda3\\lib\\site-packages\\pandas\\io\\sql.py:762: UserWarning: pandas only support SQLAlchemy connectable(engine/connection) ordatabase string URI or sqlite3 DBAPI2 connectionother DBAPI2 objects are not tested, please consider using SQLAlchemy\n",
      "  warnings.warn(\n"
     ]
    },
    {
     "ename": "DatabaseError",
     "evalue": "Execution failed on sql 'SELECT name FROM sqlite_master WHERE type='table' AND name=?;': Not all parameters were used in the SQL statement",
     "output_type": "error",
     "traceback": [
      "\u001b[1;31m---------------------------------------------------------------------------\u001b[0m",
      "\u001b[1;31mProgrammingError\u001b[0m                          Traceback (most recent call last)",
      "File \u001b[1;32mc:\\ProgramData\\Anaconda3\\lib\\site-packages\\pandas\\io\\sql.py:2023\u001b[0m, in \u001b[0;36mSQLiteDatabase.execute\u001b[1;34m(self, *args, **kwargs)\u001b[0m\n\u001b[0;32m   2022\u001b[0m \u001b[38;5;28;01mtry\u001b[39;00m:\n\u001b[1;32m-> 2023\u001b[0m     cur\u001b[38;5;241m.\u001b[39mexecute(\u001b[38;5;241m*\u001b[39margs, \u001b[38;5;241m*\u001b[39m\u001b[38;5;241m*\u001b[39mkwargs)\n\u001b[0;32m   2024\u001b[0m     \u001b[38;5;28;01mreturn\u001b[39;00m cur\n",
      "File \u001b[1;32m~\\AppData\\Roaming\\Python\\Python39\\site-packages\\mysql\\connector\\cursor.py:602\u001b[0m, in \u001b[0;36mMySQLCursor.execute\u001b[1;34m(self, operation, params, multi)\u001b[0m\n\u001b[0;32m    601\u001b[0m     \u001b[38;5;28;01mif\u001b[39;00m psub\u001b[38;5;241m.\u001b[39mremaining \u001b[38;5;241m!=\u001b[39m \u001b[38;5;241m0\u001b[39m:\n\u001b[1;32m--> 602\u001b[0m         \u001b[38;5;28;01mraise\u001b[39;00m ProgrammingError(\n\u001b[0;32m    603\u001b[0m             \u001b[38;5;124m\"\u001b[39m\u001b[38;5;124mNot all parameters were used in the SQL statement\u001b[39m\u001b[38;5;124m\"\u001b[39m\n\u001b[0;32m    604\u001b[0m         )\n\u001b[0;32m    605\u001b[0m \u001b[38;5;28;01melse\u001b[39;00m:\n",
      "\u001b[1;31mProgrammingError\u001b[0m: Not all parameters were used in the SQL statement",
      "\nThe above exception was the direct cause of the following exception:\n",
      "\u001b[1;31mDatabaseError\u001b[0m                             Traceback (most recent call last)",
      "Cell \u001b[1;32mIn[18], line 2\u001b[0m\n\u001b[0;32m      1\u001b[0m \u001b[38;5;66;03m#cursor.execute(\"select * from channel\")\u001b[39;00m\n\u001b[1;32m----> 2\u001b[0m \u001b[43mpd\u001b[49m\u001b[38;5;241;43m.\u001b[39;49m\u001b[43mread_sql_table\u001b[49m\u001b[43m(\u001b[49m\u001b[38;5;124;43m'\u001b[39;49m\u001b[38;5;124;43mchannel\u001b[39;49m\u001b[38;5;124;43m'\u001b[39;49m\u001b[43m,\u001b[49m\u001b[43m \u001b[49m\u001b[43mconn\u001b[49m\u001b[43m)\u001b[49m\n",
      "File \u001b[1;32mc:\\ProgramData\\Anaconda3\\lib\\site-packages\\pandas\\io\\sql.py:286\u001b[0m, in \u001b[0;36mread_sql_table\u001b[1;34m(table_name, con, schema, index_col, coerce_float, parse_dates, columns, chunksize)\u001b[0m\n\u001b[0;32m    230\u001b[0m \u001b[38;5;250m\u001b[39m\u001b[38;5;124;03m\"\"\"\u001b[39;00m\n\u001b[0;32m    231\u001b[0m \u001b[38;5;124;03mRead SQL database table into a DataFrame.\u001b[39;00m\n\u001b[0;32m    232\u001b[0m \n\u001b[1;32m   (...)\u001b[0m\n\u001b[0;32m    283\u001b[0m \u001b[38;5;124;03m>>> pd.read_sql_table('table_name', 'postgres:///db_name')  # doctest:+SKIP\u001b[39;00m\n\u001b[0;32m    284\u001b[0m \u001b[38;5;124;03m\"\"\"\u001b[39;00m\n\u001b[0;32m    285\u001b[0m pandas_sql \u001b[38;5;241m=\u001b[39m pandasSQL_builder(con, schema\u001b[38;5;241m=\u001b[39mschema)\n\u001b[1;32m--> 286\u001b[0m \u001b[38;5;28;01mif\u001b[39;00m \u001b[38;5;129;01mnot\u001b[39;00m \u001b[43mpandas_sql\u001b[49m\u001b[38;5;241;43m.\u001b[39;49m\u001b[43mhas_table\u001b[49m\u001b[43m(\u001b[49m\u001b[43mtable_name\u001b[49m\u001b[43m)\u001b[49m:\n\u001b[0;32m    287\u001b[0m     \u001b[38;5;28;01mraise\u001b[39;00m \u001b[38;5;167;01mValueError\u001b[39;00m(\u001b[38;5;124mf\u001b[39m\u001b[38;5;124m\"\u001b[39m\u001b[38;5;124mTable \u001b[39m\u001b[38;5;132;01m{\u001b[39;00mtable_name\u001b[38;5;132;01m}\u001b[39;00m\u001b[38;5;124m not found\u001b[39m\u001b[38;5;124m\"\u001b[39m)\n\u001b[0;32m    289\u001b[0m table \u001b[38;5;241m=\u001b[39m pandas_sql\u001b[38;5;241m.\u001b[39mread_table(\n\u001b[0;32m    290\u001b[0m     table_name,\n\u001b[0;32m    291\u001b[0m     index_col\u001b[38;5;241m=\u001b[39mindex_col,\n\u001b[1;32m   (...)\u001b[0m\n\u001b[0;32m    295\u001b[0m     chunksize\u001b[38;5;241m=\u001b[39mchunksize,\n\u001b[0;32m    296\u001b[0m )\n",
      "File \u001b[1;32mc:\\ProgramData\\Anaconda3\\lib\\site-packages\\pandas\\io\\sql.py:2200\u001b[0m, in \u001b[0;36mSQLiteDatabase.has_table\u001b[1;34m(self, name, schema)\u001b[0m\n\u001b[0;32m   2197\u001b[0m wld \u001b[38;5;241m=\u001b[39m \u001b[38;5;124m\"\u001b[39m\u001b[38;5;124m?\u001b[39m\u001b[38;5;124m\"\u001b[39m\n\u001b[0;32m   2198\u001b[0m query \u001b[38;5;241m=\u001b[39m \u001b[38;5;124mf\u001b[39m\u001b[38;5;124m\"\u001b[39m\u001b[38;5;124mSELECT name FROM sqlite_master WHERE type=\u001b[39m\u001b[38;5;124m'\u001b[39m\u001b[38;5;124mtable\u001b[39m\u001b[38;5;124m'\u001b[39m\u001b[38;5;124m AND name=\u001b[39m\u001b[38;5;132;01m{\u001b[39;00mwld\u001b[38;5;132;01m}\u001b[39;00m\u001b[38;5;124m;\u001b[39m\u001b[38;5;124m\"\u001b[39m\n\u001b[1;32m-> 2200\u001b[0m \u001b[38;5;28;01mreturn\u001b[39;00m \u001b[38;5;28mlen\u001b[39m(\u001b[38;5;28;43mself\u001b[39;49m\u001b[38;5;241;43m.\u001b[39;49m\u001b[43mexecute\u001b[49m\u001b[43m(\u001b[49m\u001b[43mquery\u001b[49m\u001b[43m,\u001b[49m\u001b[43m \u001b[49m\u001b[43m[\u001b[49m\u001b[43mname\u001b[49m\u001b[43m]\u001b[49m\u001b[43m)\u001b[49m\u001b[38;5;241m.\u001b[39mfetchall()) \u001b[38;5;241m>\u001b[39m \u001b[38;5;241m0\u001b[39m\n",
      "File \u001b[1;32mc:\\ProgramData\\Anaconda3\\lib\\site-packages\\pandas\\io\\sql.py:2035\u001b[0m, in \u001b[0;36mSQLiteDatabase.execute\u001b[1;34m(self, *args, **kwargs)\u001b[0m\n\u001b[0;32m   2032\u001b[0m     \u001b[38;5;28;01mraise\u001b[39;00m ex \u001b[38;5;28;01mfrom\u001b[39;00m \u001b[38;5;21;01minner_exc\u001b[39;00m\n\u001b[0;32m   2034\u001b[0m ex \u001b[38;5;241m=\u001b[39m DatabaseError(\u001b[38;5;124mf\u001b[39m\u001b[38;5;124m\"\u001b[39m\u001b[38;5;124mExecution failed on sql \u001b[39m\u001b[38;5;124m'\u001b[39m\u001b[38;5;132;01m{\u001b[39;00margs[\u001b[38;5;241m0\u001b[39m]\u001b[38;5;132;01m}\u001b[39;00m\u001b[38;5;124m'\u001b[39m\u001b[38;5;124m: \u001b[39m\u001b[38;5;132;01m{\u001b[39;00mexc\u001b[38;5;132;01m}\u001b[39;00m\u001b[38;5;124m\"\u001b[39m)\n\u001b[1;32m-> 2035\u001b[0m \u001b[38;5;28;01mraise\u001b[39;00m ex \u001b[38;5;28;01mfrom\u001b[39;00m \u001b[38;5;21;01mexc\u001b[39;00m\n",
      "\u001b[1;31mDatabaseError\u001b[0m: Execution failed on sql 'SELECT name FROM sqlite_master WHERE type='table' AND name=?;': Not all parameters were used in the SQL statement"
     ]
    }
   ],
   "source": [
    "#cursor.execute(\"select * from channel\")\n",
    "pd.read_sql_table('channel', conn)"
   ]
  },
  {
   "cell_type": "code",
   "execution_count": 19,
   "metadata": {},
   "outputs": [
    {
     "data": {
      "text/plain": [
       "True"
      ]
     },
     "execution_count": 19,
     "metadata": {},
     "output_type": "execute_result"
    }
   ],
   "source": [
    "cursor.close()"
   ]
  },
  {
   "cell_type": "code",
   "execution_count": 14,
   "metadata": {},
   "outputs": [],
   "source": [
    "cursor.execute(\"select * from channel\")\n",
    "data = cursor.fetchall()"
   ]
  },
  {
   "cell_type": "code",
   "execution_count": 15,
   "metadata": {},
   "outputs": [
    {
     "data": {
      "text/plain": [
       "[('Data With Mo',\n",
       "  'UCDybamfye5An6p-j1t2YMsg',\n",
       "  70100,\n",
       "  2078803,\n",
       "  63,\n",
       "  \"👋 Hey there, this is my attempt at creating the data channel I wish I had stumbled upon right at the beginning of my career. \\n\\nMy name is Mo Chen and I work as a Data & Analytics Analyst within the Financial Services Industry. I make videos covering data analyst skills and knowledge 📖\\n\\nI know all the information in the world of data can be overwhelming, so I aim at delivering complex topics in the simplest way possible 💡\\n\\nWhether you're trying to transition into a data analyst role, a beginner data analyst or someone looking to further enhance their skills - this is the channel for you 😃\\n\",\n",
       "  'UUDybamfye5An6p-j1t2YMsg'),\n",
       " ('Pavan Sathiraju',\n",
       "  'UCHYVOFd3E5WfP5infRbuVtw',\n",
       "  65500,\n",
       "  1641792,\n",
       "  284,\n",
       "  'Hoping to publish meaningful and value-add content.',\n",
       "  'UUHYVOFd3E5WfP5infRbuVtw'),\n",
       " ('Thu Vu data analytics',\n",
       "  'UCJQJAI7IjbLcpsjWdSzYz0Q',\n",
       "  173000,\n",
       "  5750452,\n",
       "  78,\n",
       "  \"Hi there! Thanks for checking out my channel. Me in 3 words: Economist turned data nerd. I'm a Data science consultant by profession in the past 5 years, based in the Netherlands. My background is in Economics and Computer Science. I love learning and explaining stuff about data science. If that sounds interesting, consider subscribing! :)\\n\\nDisclaimers: \\nAll opinions are of my own and not of my employers.\\n\",\n",
       "  'UUJQJAI7IjbLcpsjWdSzYz0Q'),\n",
       " ('QuantProgram',\n",
       "  'UCq_njg0BL8sT3781M6IAfOg',\n",
       "  63300,\n",
       "  2195981,\n",
       "  37,\n",
       "  'Educational channel focusing on quantitative finance and investment concepts using math and coding with the application to finance. Subscribers can improve their knowledge and awareness about new developments in financial markets, the risk associated with it along with the opportunity it provides.\\n\\nDisclaimer: The contents provided in the channel are purely educational. We do not provide any financial or investment advice. There is a very high degree of risk involved in trading. Past results are not indicative of future returns. quantprogram.com and all individuals affiliated with this site assume no responsibilities for your trading and investment results. The contents, videos, columns, articles and all other features are for educational purposes only and should not be construed as investment advice.\\n\\n\\n',\n",
       "  'UUq_njg0BL8sT3781M6IAfOg'),\n",
       " ('Data Nash',\n",
       "  'UCRqCK8izkO5xeVVtMKSHeRQ',\n",
       "  18100,\n",
       "  871949,\n",
       "  49,\n",
       "  'On a journey to become an elite Data Scientist and documenting my learnings along the way.\\n',\n",
       "  'UURqCK8izkO5xeVVtMKSHeRQ')]"
      ]
     },
     "execution_count": 15,
     "metadata": {},
     "output_type": "execute_result"
    }
   ],
   "source": [
    "data"
   ]
  },
  {
   "cell_type": "code",
   "execution_count": 16,
   "metadata": {},
   "outputs": [
    {
     "data": {
      "text/html": [
       "<div>\n",
       "<style scoped>\n",
       "    .dataframe tbody tr th:only-of-type {\n",
       "        vertical-align: middle;\n",
       "    }\n",
       "\n",
       "    .dataframe tbody tr th {\n",
       "        vertical-align: top;\n",
       "    }\n",
       "\n",
       "    .dataframe thead th {\n",
       "        text-align: right;\n",
       "    }\n",
       "</style>\n",
       "<table border=\"1\" class=\"dataframe\">\n",
       "  <thead>\n",
       "    <tr style=\"text-align: right;\">\n",
       "      <th></th>\n",
       "      <th>0</th>\n",
       "      <th>1</th>\n",
       "      <th>2</th>\n",
       "      <th>3</th>\n",
       "      <th>4</th>\n",
       "      <th>5</th>\n",
       "      <th>6</th>\n",
       "    </tr>\n",
       "  </thead>\n",
       "  <tbody>\n",
       "    <tr>\n",
       "      <th>0</th>\n",
       "      <td>Data With Mo</td>\n",
       "      <td>UCDybamfye5An6p-j1t2YMsg</td>\n",
       "      <td>70100</td>\n",
       "      <td>2078803</td>\n",
       "      <td>63</td>\n",
       "      <td>👋 Hey there, this is my attempt at creating th...</td>\n",
       "      <td>UUDybamfye5An6p-j1t2YMsg</td>\n",
       "    </tr>\n",
       "    <tr>\n",
       "      <th>1</th>\n",
       "      <td>Pavan Sathiraju</td>\n",
       "      <td>UCHYVOFd3E5WfP5infRbuVtw</td>\n",
       "      <td>65500</td>\n",
       "      <td>1641792</td>\n",
       "      <td>284</td>\n",
       "      <td>Hoping to publish meaningful and value-add con...</td>\n",
       "      <td>UUHYVOFd3E5WfP5infRbuVtw</td>\n",
       "    </tr>\n",
       "    <tr>\n",
       "      <th>2</th>\n",
       "      <td>Thu Vu data analytics</td>\n",
       "      <td>UCJQJAI7IjbLcpsjWdSzYz0Q</td>\n",
       "      <td>173000</td>\n",
       "      <td>5750452</td>\n",
       "      <td>78</td>\n",
       "      <td>Hi there! Thanks for checking out my channel. ...</td>\n",
       "      <td>UUJQJAI7IjbLcpsjWdSzYz0Q</td>\n",
       "    </tr>\n",
       "    <tr>\n",
       "      <th>3</th>\n",
       "      <td>QuantProgram</td>\n",
       "      <td>UCq_njg0BL8sT3781M6IAfOg</td>\n",
       "      <td>63300</td>\n",
       "      <td>2195981</td>\n",
       "      <td>37</td>\n",
       "      <td>Educational channel focusing on quantitative f...</td>\n",
       "      <td>UUq_njg0BL8sT3781M6IAfOg</td>\n",
       "    </tr>\n",
       "    <tr>\n",
       "      <th>4</th>\n",
       "      <td>Data Nash</td>\n",
       "      <td>UCRqCK8izkO5xeVVtMKSHeRQ</td>\n",
       "      <td>18100</td>\n",
       "      <td>871949</td>\n",
       "      <td>49</td>\n",
       "      <td>On a journey to become an elite Data Scientist...</td>\n",
       "      <td>UURqCK8izkO5xeVVtMKSHeRQ</td>\n",
       "    </tr>\n",
       "  </tbody>\n",
       "</table>\n",
       "</div>"
      ],
      "text/plain": [
       "                       0                         1       2        3    4  \\\n",
       "0           Data With Mo  UCDybamfye5An6p-j1t2YMsg   70100  2078803   63   \n",
       "1        Pavan Sathiraju  UCHYVOFd3E5WfP5infRbuVtw   65500  1641792  284   \n",
       "2  Thu Vu data analytics  UCJQJAI7IjbLcpsjWdSzYz0Q  173000  5750452   78   \n",
       "3           QuantProgram  UCq_njg0BL8sT3781M6IAfOg   63300  2195981   37   \n",
       "4              Data Nash  UCRqCK8izkO5xeVVtMKSHeRQ   18100   871949   49   \n",
       "\n",
       "                                                   5                         6  \n",
       "0  👋 Hey there, this is my attempt at creating th...  UUDybamfye5An6p-j1t2YMsg  \n",
       "1  Hoping to publish meaningful and value-add con...  UUHYVOFd3E5WfP5infRbuVtw  \n",
       "2  Hi there! Thanks for checking out my channel. ...  UUJQJAI7IjbLcpsjWdSzYz0Q  \n",
       "3  Educational channel focusing on quantitative f...  UUq_njg0BL8sT3781M6IAfOg  \n",
       "4  On a journey to become an elite Data Scientist...  UURqCK8izkO5xeVVtMKSHeRQ  "
      ]
     },
     "execution_count": 16,
     "metadata": {},
     "output_type": "execute_result"
    }
   ],
   "source": [
    "pd.DataFrame(data)"
   ]
  },
  {
   "cell_type": "code",
   "execution_count": null,
   "metadata": {},
   "outputs": [],
   "source": []
  }
 ],
 "metadata": {
  "kernelspec": {
   "display_name": "base",
   "language": "python",
   "name": "python3"
  },
  "language_info": {
   "codemirror_mode": {
    "name": "ipython",
    "version": 3
   },
   "file_extension": ".py",
   "mimetype": "text/x-python",
   "name": "python",
   "nbconvert_exporter": "python",
   "pygments_lexer": "ipython3",
   "version": "3.9.13"
  }
 },
 "nbformat": 4,
 "nbformat_minor": 2
}
