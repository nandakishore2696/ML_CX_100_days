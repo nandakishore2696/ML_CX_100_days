{
 "cells": [
  {
   "cell_type": "markdown",
   "metadata": {},
   "source": [
    "# Web Scraping Demo"
   ]
  },
  {
   "cell_type": "code",
   "execution_count": 1,
   "metadata": {},
   "outputs": [],
   "source": [
    "import pandas as pd \n",
    "import requests\n",
    "from bs4 import BeautifulSoup"
   ]
  },
  {
   "cell_type": "code",
   "execution_count": 2,
   "metadata": {},
   "outputs": [
    {
     "data": {
      "text/plain": [
       "<Response [403]>"
      ]
     },
     "execution_count": 2,
     "metadata": {},
     "output_type": "execute_result"
    }
   ],
   "source": [
    "requests.get(\"https://www.ambitionbox.com/list-of-companies?page=1\")"
   ]
  },
  {
   "cell_type": "markdown",
   "metadata": {},
   "source": [
    "* `<Response [403]>` means the server has rejected your request"
   ]
  },
  {
   "cell_type": "code",
   "execution_count": 5,
   "metadata": {},
   "outputs": [
    {
     "name": "stdout",
     "output_type": "stream",
     "text": [
      "<HTML><HEAD>\n",
      "<TITLE>Access Denied</TITLE>\n",
      "</HEAD><BODY>\n",
      "<H1>Access Denied</H1>\n",
      " \n",
      "You don't have permission to access \"http&#58;&#47;&#47;www&#46;ambitionbox&#46;com&#47;list&#45;of&#45;companies&#63;\" on this server.<P>\n",
      "Reference&#32;&#35;18&#46;8689d317&#46;1711276478&#46;dad9ecd\n",
      "</BODY>\n",
      "</HTML>\n",
      "\n"
     ]
    }
   ],
   "source": [
    "print(requests.get(\"https://www.ambitionbox.com/list-of-companies?page=1\").text)"
   ]
  },
  {
   "cell_type": "code",
   "execution_count": 17,
   "metadata": {},
   "outputs": [],
   "source": [
    "url = \"https://www.ambitionbox.com/list-of-companies?page=1\"\n",
    "headers={'User-Agent':'Mozilla/5.0 (Windows NT 6.3; Win 64 ; x64) Apple WeKit /537.36(KHTML , like Gecko) Chrome/80.0.3987.162 Safari/537.36'} \n",
    "webpage = requests.get(url,headers=headers).text"
   ]
  },
  {
   "cell_type": "code",
   "execution_count": 20,
   "metadata": {},
   "outputs": [
    {
     "name": "stdout",
     "output_type": "stream",
     "text": [
      "303676\n",
      "\n",
      "<!doctype html>\n",
      "<html data-n-head-ssr lang=\"en\" data-n-head=\"%7B%22lang%22:%7B%22ssr%22:%22en%22%7D%7D\">\n",
      "  <head >\n",
      "    <meta charset=\"UTF-8\">\n",
      "    <meta name=\"viewport\" content=\"width=device-width,initial-scale=1,minimum-scale=1\">\n",
      "    <meta http-equiv=\"X-UA-Compatible\" content=\"IE=edge\"> \n",
      "    <style>@media only screen and (min-width:767px){.trp-img{width:400px!important;max-width:400px!important}}</style>\n",
      "    <script>window.dataLayer=window.dataLayer||[],window.gtag=window.gtag||function(){window.dataLayer.push(arguments)},gtag(\"js\",new Date)</script>\n",
      "\n",
      "    <title>List of companies in India | AmbitionBox</title><meta data-n-head=\"ssr\" name=\"copyright\" content=\"2024 AmbitionBox\"><meta data-n-head=\"ssr\" name=\"revisit-after\" content=\"1 day\"><meta data-n-head=\"ssr\" name=\"application-name\" content=\"AmbitionBox\"><meta data-n-head=\"ssr\" name=\"content-language\" content=\"EN\"><meta data-n-head=\"ssr\" name=\"google-signin-client_id\" content=\"462822053404-hphug4pkahqljh2tc96g35at47o4isv2.apps.googleusercontent.com\"><meta data-n-head=\"ssr\" property=\"fb:app_id\" content=\"712617688793459\"><meta data-n-head=\"ssr\" name=\"theme-color\" content=\"#ffffff\"><meta data-n-head=\"ssr\" name=\"msapplication-navbutton-color\" content=\"#ffffff\"><meta data-n-head=\"ssr\" name=\"apple-mobile-web-app-status-bar-style\" content=\"default\"><meta data-n-head=\"ssr\" property=\"fb:admins\" content=\"100001438127755,100000444923785\"><meta data-n-head=\"ssr\" property=\"og:site_name\" content=\"AmbitionBox\"><meta data-n-head=\"ssr\" property=\"og:type\" content=\"website\"><meta data-n-head=\"ssr\" name=\"twitter:card\" content=\"summary_large_image\"><meta data-n-head=\"ssr\" name=\"twitter:domain\" content=\"ambitionbox.com\"><meta data-n-head=\"ssr\" name=\"author\" content=\"www.ambitionbox.com\"><meta data-n-head=\"ssr\" name=\"resource-type\" content=\"document\"><meta data-n-head=\"ssr\" name=\"distribution\" content=\"GLOBAL\"><meta data-n-head=\"ssr\" name=\"rating\" content=\"general\"><meta data-n-head=\"ssr\" name=\"pragma\" content=\"no-cache\"><meta data-n-head\n"
     ]
    }
   ],
   "source": [
    "print(len(webpage))\n",
    "print()\n",
    "print(webpage[0:2000]) "
   ]
  },
  {
   "cell_type": "code",
   "execution_count": 21,
   "metadata": {},
   "outputs": [],
   "source": [
    "soup = BeautifulSoup(webpage, 'lxml')"
   ]
  },
  {
   "cell_type": "code",
   "execution_count": 26,
   "metadata": {},
   "outputs": [
    {
     "name": "stdout",
     "output_type": "stream",
     "text": [
      "<!DOCTYPE html>\n",
      "<html data-n-head=\"%7B%22lang%22:%7B%22ssr%22:%22en%22%7D%7D\" data-n-head-ssr=\"\" lang=\"en\">\n",
      " <head>\n",
      "  <meta charset=\"utf-8\"/>\n",
      "  <meta content=\"width=device-width,initial-scale=1,minimum-scale=1\" name=\"viewport\"/>\n",
      "  <meta content=\"IE=edge\" http-equiv=\"X-UA-Compatible\"/>\n",
      "  <style>\n",
      "   @media only screen and (min-width:767px){.trp-img{width:400px!important;max-width:400px!important}}\n",
      "  </style>\n",
      "  <script>\n",
      "   window.dataLayer=window.dataLayer||[],window.gtag=window.gtag||function(){window.dataLayer.push(arguments)},gtag(\"js\",new Date)\n",
      "  </script>\n",
      "  <title>\n",
      "   List of companies in India | AmbitionBox\n",
      "  </title>\n",
      "  <meta content=\"2024 AmbitionBox\" data-n-head=\"ssr\" name=\"copyright\"/>\n",
      "  <meta content=\"1 day\" data-n-head=\"ssr\" name=\"revisit-after\"/>\n",
      "  <meta content=\"AmbitionBox\" data-n-head=\"ssr\" name=\"application-name\"/>\n",
      "  <meta content=\"EN\" data-n-head=\"ssr\" name=\"content-language\"/>\n",
      "  <meta content=\"462822053404-hphug4pkahqljh2tc96g35at47o4isv2.apps.googleusercontent.com\" data\n"
     ]
    }
   ],
   "source": [
    "print(soup.prettify()[0:1000])"
   ]
  },
  {
   "cell_type": "code",
   "execution_count": 27,
   "metadata": {},
   "outputs": [
    {
     "data": {
      "text/plain": [
       "[<h1 class=\"companyListing__title\">\n",
       " \t\t\t\t\t\t\tList of companies in India\n",
       " \t\t\t\t\t\t</h1>]"
      ]
     },
     "execution_count": 27,
     "metadata": {},
     "output_type": "execute_result"
    }
   ],
   "source": [
    "soup.find_all('h1')"
   ]
  },
  {
   "cell_type": "code",
   "execution_count": 31,
   "metadata": {},
   "outputs": [
    {
     "data": {
      "text/plain": [
       "'\\n\\t\\t\\t\\t\\t\\t\\tList of companies in India\\n\\t\\t\\t\\t\\t\\t'"
      ]
     },
     "execution_count": 31,
     "metadata": {},
     "output_type": "execute_result"
    }
   ],
   "source": [
    "soup.find_all('h1')[0].text"
   ]
  },
  {
   "cell_type": "code",
   "execution_count": 32,
   "metadata": {},
   "outputs": [
    {
     "name": "stdout",
     "output_type": "stream",
     "text": [
      "\n",
      "\t\t\t\t\t\t\tList of companies in India\n",
      "\t\t\t\t\t\t\n"
     ]
    }
   ],
   "source": [
    "print(soup.find_all('h1')[0].text)"
   ]
  },
  {
   "cell_type": "code",
   "execution_count": 33,
   "metadata": {},
   "outputs": [
    {
     "data": {
      "text/plain": [
       "'List of companies in India'"
      ]
     },
     "execution_count": 33,
     "metadata": {},
     "output_type": "execute_result"
    }
   ],
   "source": [
    "soup.find_all('h1')[0].text.strip()"
   ]
  },
  {
   "cell_type": "code",
   "execution_count": 39,
   "metadata": {},
   "outputs": [
    {
     "data": {
      "text/plain": [
       "[<h2 class=\"companyCardWrapper__companyName\" title=\"TCS\">\n",
       " \t\t\t\t\t\t\t\t\t\tTCS\n",
       " \t\t\t\t\t\t\t\t\t</h2>,\n",
       " <h2 class=\"companyCardWrapper__companyName\" title=\"Accenture\">\n",
       " \t\t\t\t\t\t\t\t\t\tAccenture\n",
       " \t\t\t\t\t\t\t\t\t</h2>,\n",
       " <h2 class=\"companyCardWrapper__companyName\" title=\"Cognizant\">\n",
       " \t\t\t\t\t\t\t\t\t\tCognizant\n",
       " \t\t\t\t\t\t\t\t\t</h2>,\n",
       " <h2 class=\"companyCardWrapper__companyName\" title=\"Wipro\">\n",
       " \t\t\t\t\t\t\t\t\t\tWipro\n",
       " \t\t\t\t\t\t\t\t\t</h2>,\n",
       " <h2 class=\"companyCardWrapper__companyName\" title=\"Capgemini\">\n",
       " \t\t\t\t\t\t\t\t\t\tCapgemini\n",
       " \t\t\t\t\t\t\t\t\t</h2>,\n",
       " <h2 class=\"companyCardWrapper__companyName\" title=\"HDFC Bank\">\n",
       " \t\t\t\t\t\t\t\t\t\tHDFC Bank\n",
       " \t\t\t\t\t\t\t\t\t</h2>,\n",
       " <h2 class=\"companyCardWrapper__companyName\" title=\"ICICI Bank\">\n",
       " \t\t\t\t\t\t\t\t\t\tICICI Bank\n",
       " \t\t\t\t\t\t\t\t\t</h2>,\n",
       " <h2 class=\"companyCardWrapper__companyName\" title=\"Infosys\">\n",
       " \t\t\t\t\t\t\t\t\t\tInfosys\n",
       " \t\t\t\t\t\t\t\t\t</h2>,\n",
       " <h2 class=\"companyCardWrapper__companyName\" title=\"HCLTech\">\n",
       " \t\t\t\t\t\t\t\t\t\tHCLTech\n",
       " \t\t\t\t\t\t\t\t\t</h2>,\n",
       " <h2 class=\"companyCardWrapper__companyName\" title=\"Tech Mahindra\">\n",
       " \t\t\t\t\t\t\t\t\t\tTech Mahindra\n",
       " \t\t\t\t\t\t\t\t\t</h2>,\n",
       " <h2 class=\"companyCardWrapper__companyName\" title=\"Genpact\">\n",
       " \t\t\t\t\t\t\t\t\t\tGenpact\n",
       " \t\t\t\t\t\t\t\t\t</h2>,\n",
       " <h2 class=\"companyCardWrapper__companyName\" title=\"Axis Bank\">\n",
       " \t\t\t\t\t\t\t\t\t\tAxis Bank\n",
       " \t\t\t\t\t\t\t\t\t</h2>,\n",
       " <h2 class=\"companyCardWrapper__companyName\" title=\"Teleperformance\">\n",
       " \t\t\t\t\t\t\t\t\t\tTeleperformance\n",
       " \t\t\t\t\t\t\t\t\t</h2>,\n",
       " <h2 class=\"companyCardWrapper__companyName\" title=\"Concentrix Corporation\">\n",
       " \t\t\t\t\t\t\t\t\t\tConcentrix Corporation\n",
       " \t\t\t\t\t\t\t\t\t</h2>,\n",
       " <h2 class=\"companyCardWrapper__companyName\" title=\"Jio\">\n",
       " \t\t\t\t\t\t\t\t\t\tJio\n",
       " \t\t\t\t\t\t\t\t\t</h2>,\n",
       " <h2 class=\"companyCardWrapper__companyName\" title=\"Amazon\">\n",
       " \t\t\t\t\t\t\t\t\t\tAmazon\n",
       " \t\t\t\t\t\t\t\t\t</h2>,\n",
       " <h2 class=\"companyCardWrapper__companyName\" title=\"IBM\">\n",
       " \t\t\t\t\t\t\t\t\t\tIBM\n",
       " \t\t\t\t\t\t\t\t\t</h2>,\n",
       " <h2 class=\"companyCardWrapper__companyName\" title=\"Reliance Retail\">\n",
       " \t\t\t\t\t\t\t\t\t\tReliance Retail\n",
       " \t\t\t\t\t\t\t\t\t</h2>,\n",
       " <h2 class=\"companyCardWrapper__companyName\" title=\"HDB Financial Services\">\n",
       " \t\t\t\t\t\t\t\t\t\tHDB Financial Services\n",
       " \t\t\t\t\t\t\t\t\t</h2>,\n",
       " <h2 class=\"companyCardWrapper__companyName\" title=\"Larsen &amp; Toubro Limited\">\n",
       " \t\t\t\t\t\t\t\t\t\tLarsen &amp; Toubro Limited\n",
       " \t\t\t\t\t\t\t\t\t</h2>,\n",
       " <h2 class=\"main-title body-medium\">\n",
       " \t\t\tCompanies by  Industry\n",
       " \t\t</h2>,\n",
       " <h2 class=\"main-title body-medium\">\n",
       " \t\t\tCompanies by  Locations\n",
       " \t\t</h2>,\n",
       " <h2 class=\"main-title body-medium\">\n",
       " \t\t\tCompanies by  Type\n",
       " \t\t</h2>,\n",
       " <h2 class=\"main-title body-medium\">\n",
       " \t\t\tCompanies by  Badges\n",
       " \t\t</h2>]"
      ]
     },
     "execution_count": 39,
     "metadata": {},
     "output_type": "execute_result"
    }
   ],
   "source": [
    "soup.find_all('h2')"
   ]
  },
  {
   "cell_type": "code",
   "execution_count": 36,
   "metadata": {},
   "outputs": [
    {
     "data": {
      "text/plain": [
       "24"
      ]
     },
     "execution_count": 36,
     "metadata": {},
     "output_type": "execute_result"
    }
   ],
   "source": [
    "len(soup.find_all('h2'))"
   ]
  },
  {
   "cell_type": "code",
   "execution_count": 41,
   "metadata": {},
   "outputs": [
    {
     "name": "stdout",
     "output_type": "stream",
     "text": [
      "TCS\n",
      "Accenture\n",
      "Cognizant\n",
      "Wipro\n",
      "Capgemini\n",
      "HDFC Bank\n",
      "ICICI Bank\n",
      "Infosys\n",
      "HCLTech\n",
      "Tech Mahindra\n",
      "Genpact\n",
      "Axis Bank\n",
      "Teleperformance\n",
      "Concentrix Corporation\n",
      "Jio\n",
      "Amazon\n",
      "IBM\n",
      "Reliance Retail\n",
      "HDB Financial Services\n",
      "Larsen & Toubro Limited\n",
      "Companies by  Industry\n",
      "Companies by  Locations\n",
      "Companies by  Type\n",
      "Companies by  Badges\n"
     ]
    }
   ],
   "source": [
    "for i in soup.find_all('h2'):\n",
    "    print(i.text.strip())"
   ]
  },
  {
   "cell_type": "code",
   "execution_count": 42,
   "metadata": {},
   "outputs": [
    {
     "name": "stdout",
     "output_type": "stream",
     "text": [
      "AmbitionBox\n",
      "About Company\n",
      "Discover best places to work\n",
      "Compare & find best workplace\n",
      "Bring your workplace to life\n",
      "Highlight your company's perks\n",
      "Read reviews for 6L+ companies\n",
      "Rate your former or current company\n",
      "Discover salaries for 6L+ companies\n",
      "Calculate your take home salary\n",
      "Check your market value\n",
      "Help other jobseekers\n",
      "Read interviews for 40K+ companies\n",
      "Interviews questions for 1K+ colleges\n",
      "Contribute your interview questions\n",
      "AmbitionBox Employee Choice Awards - 3rd Edition\n",
      "2nd Edition\n",
      "1st Edition\n",
      "Discover Best Places to Work!\n",
      "9,94,272\n",
      "\t\t\t\t\t\t\tunique\n",
      "\t\t\t\t\t\t\tcompanies found\n",
      "Sort By:\n",
      "Popular\n",
      "Helping over\n",
      "\t\t\t\t\t\t\t\t\t1 Crore\n",
      "\t\t\t\t\t\t\t\t\tjob seekers every month in choosing their right fit company\n",
      "Reviews\n",
      "Salaries\n",
      "Interviews\n",
      "Users/Month\n",
      "About Company\n",
      "Made with ❤️ in India. Trademarks belong to their respective owners. All\n",
      "\t\t\t\t\trights reserved © 2024 Info Edge (India) Ltd.\n"
     ]
    }
   ],
   "source": [
    "for i in soup.find_all('p'):\n",
    "    print(i.text.strip())"
   ]
  },
  {
   "cell_type": "code",
   "execution_count": 45,
   "metadata": {},
   "outputs": [],
   "source": [
    "for i in soup.find_all('p', class_ =\"icon icon-star\"):\n",
    "    print(i.text.strip())"
   ]
  },
  {
   "cell_type": "code",
   "execution_count": 49,
   "metadata": {},
   "outputs": [
    {
     "data": {
      "text/plain": [
       "[<span class=\"plus\">+</span>,\n",
       " <span class=\"badge\" id=\"badge-count\" style=\"display:none;\"></span>,\n",
       " <span>Companies</span>,\n",
       " <span>Reviews</span>,\n",
       " <span>Salaries</span>,\n",
       " <span>Interviews</span>,\n",
       " <span>Awards</span>,\n",
       " <span class=\"subNavWrapAwards__text\">Participate in ABECA 2025</span>,\n",
       " <span data-v-25184b67=\"\">All Filters\n",
       " \t\t\t\t\t\n",
       " \t\t\t\t</span>,\n",
       " <span class=\"filterWrapper__chipSubMenu filterWrapper__chipSubMenu0\" data-v-25184b67=\"\"><!-- --></span>,\n",
       " <span class=\"filterWrapper__chipSubMenu filterWrapper__chipSubMenu1\" data-v-25184b67=\"\"><!-- --></span>,\n",
       " <span class=\"filterWrapper__chipSubMenu filterWrapper__chipSubMenu3\" data-v-25184b67=\"\"><!-- --></span>,\n",
       " <span class=\"filterWrapper__chipSubMenu filterWrapper__chipSubMenu4\" data-v-25184b67=\"\"><!-- --></span>,\n",
       " <span class=\"filterWrapper__chipSubMenu filterWrapper__chipSubMenu5\" data-v-25184b67=\"\"><!-- --></span>,\n",
       " <span class=\"filterWrapper__chipSubMenu filterWrapper__chipSubMenu6\" data-v-25184b67=\"\"><!-- --></span>,\n",
       " <span class=\"filterWrapper__chipSubMenu filterWrapper__chipSubMenu7\" data-v-25184b67=\"\"><!-- --></span>,\n",
       " <span class=\"filterWrapper__chipSubMenu filterWrapper__chipSubMenu8\" data-v-25184b67=\"\"><!-- --></span>,\n",
       " <span>\n",
       " \t\t\t\t\t\t\t9,94,272\n",
       " \t\t\t\t\t\t\tunique\n",
       " \t\t\t\t\t\t\tcompanies found\n",
       " \t\t\t\t\t\t\t\n",
       " \t\t\t\t\t\t</span>,\n",
       " <span class=\"g-btn__label g-btn__label--md g-btn__label--text g-btn__label--loader\">Follow</span>,\n",
       " <span class=\"companyCardWrapper__companyRatingValue\">3.8</span>]"
      ]
     },
     "execution_count": 49,
     "metadata": {},
     "output_type": "execute_result"
    }
   ],
   "source": [
    "soup.find_all('span')[0:20]"
   ]
  },
  {
   "cell_type": "code",
   "execution_count": 50,
   "metadata": {},
   "outputs": [],
   "source": [
    "#for i in soup.find_all('span'):\n",
    "#    print(i.text.strip())"
   ]
  },
  {
   "cell_type": "code",
   "execution_count": null,
   "metadata": {},
   "outputs": [],
   "source": []
  }
 ],
 "metadata": {
  "kernelspec": {
   "display_name": "base",
   "language": "python",
   "name": "python3"
  },
  "language_info": {
   "codemirror_mode": {
    "name": "ipython",
    "version": 3
   },
   "file_extension": ".py",
   "mimetype": "text/x-python",
   "name": "python",
   "nbconvert_exporter": "python",
   "pygments_lexer": "ipython3",
   "version": "3.9.13"
  }
 },
 "nbformat": 4,
 "nbformat_minor": 2
}
